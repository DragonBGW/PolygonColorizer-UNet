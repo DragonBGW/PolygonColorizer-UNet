{
  "nbformat": 4,
  "nbformat_minor": 0,
  "metadata": {
    "colab": {
      "provenance": [],
      "gpuType": "T4",
      "authorship_tag": "ABX9TyOIls0psHP2VEp/+0IWIeE/",
      "include_colab_link": true
    },
    "kernelspec": {
      "name": "python3",
      "display_name": "Python 3"
    },
    "language_info": {
      "name": "python"
    },
    "accelerator": "GPU"
  },
  "cells": [
    {
      "cell_type": "markdown",
      "metadata": {
        "id": "view-in-github",
        "colab_type": "text"
      },
      "source": [
        "<a href=\"https://colab.research.google.com/github/DragonBGW/PolygonColorizer-UNet/blob/main/training_colab.ipynb\" target=\"_parent\"><img src=\"https://colab.research.google.com/assets/colab-badge.svg\" alt=\"Open In Colab\"/></a>"
      ]
    },
    {
      "cell_type": "code",
      "execution_count": 1,
      "metadata": {
        "colab": {
          "base_uri": "https://localhost:8080/"
        },
        "id": "pqVwgbyH_23Q",
        "outputId": "b8fa3879-b7c9-4253-cdd6-50943371090e"
      },
      "outputs": [
        {
          "output_type": "stream",
          "name": "stdout",
          "text": [
            "Requirement already satisfied: torch in /usr/local/lib/python3.11/dist-packages (2.6.0+cu124)\n",
            "Requirement already satisfied: torchvision in /usr/local/lib/python3.11/dist-packages (0.21.0+cu124)\n",
            "Requirement already satisfied: wandb in /usr/local/lib/python3.11/dist-packages (0.21.0)\n",
            "Requirement already satisfied: matplotlib in /usr/local/lib/python3.11/dist-packages (3.10.0)\n",
            "Requirement already satisfied: pillow in /usr/local/lib/python3.11/dist-packages (11.3.0)\n",
            "Requirement already satisfied: filelock in /usr/local/lib/python3.11/dist-packages (from torch) (3.18.0)\n",
            "Requirement already satisfied: typing-extensions>=4.10.0 in /usr/local/lib/python3.11/dist-packages (from torch) (4.14.1)\n",
            "Requirement already satisfied: networkx in /usr/local/lib/python3.11/dist-packages (from torch) (3.5)\n",
            "Requirement already satisfied: jinja2 in /usr/local/lib/python3.11/dist-packages (from torch) (3.1.6)\n",
            "Requirement already satisfied: fsspec in /usr/local/lib/python3.11/dist-packages (from torch) (2025.3.0)\n",
            "Collecting nvidia-cuda-nvrtc-cu12==12.4.127 (from torch)\n",
            "  Downloading nvidia_cuda_nvrtc_cu12-12.4.127-py3-none-manylinux2014_x86_64.whl.metadata (1.5 kB)\n",
            "Collecting nvidia-cuda-runtime-cu12==12.4.127 (from torch)\n",
            "  Downloading nvidia_cuda_runtime_cu12-12.4.127-py3-none-manylinux2014_x86_64.whl.metadata (1.5 kB)\n",
            "Collecting nvidia-cuda-cupti-cu12==12.4.127 (from torch)\n",
            "  Downloading nvidia_cuda_cupti_cu12-12.4.127-py3-none-manylinux2014_x86_64.whl.metadata (1.6 kB)\n",
            "Collecting nvidia-cudnn-cu12==9.1.0.70 (from torch)\n",
            "  Downloading nvidia_cudnn_cu12-9.1.0.70-py3-none-manylinux2014_x86_64.whl.metadata (1.6 kB)\n",
            "Collecting nvidia-cublas-cu12==12.4.5.8 (from torch)\n",
            "  Downloading nvidia_cublas_cu12-12.4.5.8-py3-none-manylinux2014_x86_64.whl.metadata (1.5 kB)\n",
            "Collecting nvidia-cufft-cu12==11.2.1.3 (from torch)\n",
            "  Downloading nvidia_cufft_cu12-11.2.1.3-py3-none-manylinux2014_x86_64.whl.metadata (1.5 kB)\n",
            "Collecting nvidia-curand-cu12==10.3.5.147 (from torch)\n",
            "  Downloading nvidia_curand_cu12-10.3.5.147-py3-none-manylinux2014_x86_64.whl.metadata (1.5 kB)\n",
            "Collecting nvidia-cusolver-cu12==11.6.1.9 (from torch)\n",
            "  Downloading nvidia_cusolver_cu12-11.6.1.9-py3-none-manylinux2014_x86_64.whl.metadata (1.6 kB)\n",
            "Collecting nvidia-cusparse-cu12==12.3.1.170 (from torch)\n",
            "  Downloading nvidia_cusparse_cu12-12.3.1.170-py3-none-manylinux2014_x86_64.whl.metadata (1.6 kB)\n",
            "Requirement already satisfied: nvidia-cusparselt-cu12==0.6.2 in /usr/local/lib/python3.11/dist-packages (from torch) (0.6.2)\n",
            "Requirement already satisfied: nvidia-nccl-cu12==2.21.5 in /usr/local/lib/python3.11/dist-packages (from torch) (2.21.5)\n",
            "Requirement already satisfied: nvidia-nvtx-cu12==12.4.127 in /usr/local/lib/python3.11/dist-packages (from torch) (12.4.127)\n",
            "Collecting nvidia-nvjitlink-cu12==12.4.127 (from torch)\n",
            "  Downloading nvidia_nvjitlink_cu12-12.4.127-py3-none-manylinux2014_x86_64.whl.metadata (1.5 kB)\n",
            "Requirement already satisfied: triton==3.2.0 in /usr/local/lib/python3.11/dist-packages (from torch) (3.2.0)\n",
            "Requirement already satisfied: sympy==1.13.1 in /usr/local/lib/python3.11/dist-packages (from torch) (1.13.1)\n",
            "Requirement already satisfied: mpmath<1.4,>=1.1.0 in /usr/local/lib/python3.11/dist-packages (from sympy==1.13.1->torch) (1.3.0)\n",
            "Requirement already satisfied: numpy in /usr/local/lib/python3.11/dist-packages (from torchvision) (2.0.2)\n",
            "Requirement already satisfied: click!=8.0.0,>=7.1 in /usr/local/lib/python3.11/dist-packages (from wandb) (8.2.1)\n",
            "Requirement already satisfied: gitpython!=3.1.29,>=1.0.0 in /usr/local/lib/python3.11/dist-packages (from wandb) (3.1.45)\n",
            "Requirement already satisfied: packaging in /usr/local/lib/python3.11/dist-packages (from wandb) (25.0)\n",
            "Requirement already satisfied: platformdirs in /usr/local/lib/python3.11/dist-packages (from wandb) (4.3.8)\n",
            "Requirement already satisfied: protobuf!=4.21.0,!=5.28.0,<7,>=3.19.0 in /usr/local/lib/python3.11/dist-packages (from wandb) (5.29.5)\n",
            "Requirement already satisfied: pydantic<3 in /usr/local/lib/python3.11/dist-packages (from wandb) (2.11.7)\n",
            "Requirement already satisfied: pyyaml in /usr/local/lib/python3.11/dist-packages (from wandb) (6.0.2)\n",
            "Requirement already satisfied: requests<3,>=2.0.0 in /usr/local/lib/python3.11/dist-packages (from wandb) (2.32.3)\n",
            "Requirement already satisfied: sentry-sdk>=2.0.0 in /usr/local/lib/python3.11/dist-packages (from wandb) (2.33.2)\n",
            "Requirement already satisfied: contourpy>=1.0.1 in /usr/local/lib/python3.11/dist-packages (from matplotlib) (1.3.2)\n",
            "Requirement already satisfied: cycler>=0.10 in /usr/local/lib/python3.11/dist-packages (from matplotlib) (0.12.1)\n",
            "Requirement already satisfied: fonttools>=4.22.0 in /usr/local/lib/python3.11/dist-packages (from matplotlib) (4.59.0)\n",
            "Requirement already satisfied: kiwisolver>=1.3.1 in /usr/local/lib/python3.11/dist-packages (from matplotlib) (1.4.8)\n",
            "Requirement already satisfied: pyparsing>=2.3.1 in /usr/local/lib/python3.11/dist-packages (from matplotlib) (3.2.3)\n",
            "Requirement already satisfied: python-dateutil>=2.7 in /usr/local/lib/python3.11/dist-packages (from matplotlib) (2.9.0.post0)\n",
            "Requirement already satisfied: gitdb<5,>=4.0.1 in /usr/local/lib/python3.11/dist-packages (from gitpython!=3.1.29,>=1.0.0->wandb) (4.0.12)\n",
            "Requirement already satisfied: annotated-types>=0.6.0 in /usr/local/lib/python3.11/dist-packages (from pydantic<3->wandb) (0.7.0)\n",
            "Requirement already satisfied: pydantic-core==2.33.2 in /usr/local/lib/python3.11/dist-packages (from pydantic<3->wandb) (2.33.2)\n",
            "Requirement already satisfied: typing-inspection>=0.4.0 in /usr/local/lib/python3.11/dist-packages (from pydantic<3->wandb) (0.4.1)\n",
            "Requirement already satisfied: six>=1.5 in /usr/local/lib/python3.11/dist-packages (from python-dateutil>=2.7->matplotlib) (1.17.0)\n",
            "Requirement already satisfied: charset-normalizer<4,>=2 in /usr/local/lib/python3.11/dist-packages (from requests<3,>=2.0.0->wandb) (3.4.2)\n",
            "Requirement already satisfied: idna<4,>=2.5 in /usr/local/lib/python3.11/dist-packages (from requests<3,>=2.0.0->wandb) (3.10)\n",
            "Requirement already satisfied: urllib3<3,>=1.21.1 in /usr/local/lib/python3.11/dist-packages (from requests<3,>=2.0.0->wandb) (2.5.0)\n",
            "Requirement already satisfied: certifi>=2017.4.17 in /usr/local/lib/python3.11/dist-packages (from requests<3,>=2.0.0->wandb) (2025.7.14)\n",
            "Requirement already satisfied: MarkupSafe>=2.0 in /usr/local/lib/python3.11/dist-packages (from jinja2->torch) (3.0.2)\n",
            "Requirement already satisfied: smmap<6,>=3.0.1 in /usr/local/lib/python3.11/dist-packages (from gitdb<5,>=4.0.1->gitpython!=3.1.29,>=1.0.0->wandb) (5.0.2)\n",
            "Downloading nvidia_cublas_cu12-12.4.5.8-py3-none-manylinux2014_x86_64.whl (363.4 MB)\n",
            "\u001b[2K   \u001b[90m━━━━━━━━━━━━━━━━━━━━━━━━━━━━━━━━━━━━━━━━\u001b[0m \u001b[32m363.4/363.4 MB\u001b[0m \u001b[31m4.2 MB/s\u001b[0m eta \u001b[36m0:00:00\u001b[0m\n",
            "\u001b[?25hDownloading nvidia_cuda_cupti_cu12-12.4.127-py3-none-manylinux2014_x86_64.whl (13.8 MB)\n",
            "\u001b[2K   \u001b[90m━━━━━━━━━━━━━━━━━━━━━━━━━━━━━━━━━━━━━━━━\u001b[0m \u001b[32m13.8/13.8 MB\u001b[0m \u001b[31m102.7 MB/s\u001b[0m eta \u001b[36m0:00:00\u001b[0m\n",
            "\u001b[?25hDownloading nvidia_cuda_nvrtc_cu12-12.4.127-py3-none-manylinux2014_x86_64.whl (24.6 MB)\n",
            "\u001b[2K   \u001b[90m━━━━━━━━━━━━━━━━━━━━━━━━━━━━━━━━━━━━━━━━\u001b[0m \u001b[32m24.6/24.6 MB\u001b[0m \u001b[31m90.8 MB/s\u001b[0m eta \u001b[36m0:00:00\u001b[0m\n",
            "\u001b[?25hDownloading nvidia_cuda_runtime_cu12-12.4.127-py3-none-manylinux2014_x86_64.whl (883 kB)\n",
            "\u001b[2K   \u001b[90m━━━━━━━━━━━━━━━━━━━━━━━━━━━━━━━━━━━━━━━━\u001b[0m \u001b[32m883.7/883.7 kB\u001b[0m \u001b[31m53.1 MB/s\u001b[0m eta \u001b[36m0:00:00\u001b[0m\n",
            "\u001b[?25hDownloading nvidia_cudnn_cu12-9.1.0.70-py3-none-manylinux2014_x86_64.whl (664.8 MB)\n",
            "\u001b[2K   \u001b[90m━━━━━━━━━━━━━━━━━━━━━━━━━━━━━━━━━━━━━━━━\u001b[0m \u001b[32m664.8/664.8 MB\u001b[0m \u001b[31m2.0 MB/s\u001b[0m eta \u001b[36m0:00:00\u001b[0m\n",
            "\u001b[?25hDownloading nvidia_cufft_cu12-11.2.1.3-py3-none-manylinux2014_x86_64.whl (211.5 MB)\n",
            "\u001b[2K   \u001b[90m━━━━━━━━━━━━━━━━━━━━━━━━━━━━━━━━━━━━━━━━\u001b[0m \u001b[32m211.5/211.5 MB\u001b[0m \u001b[31m5.6 MB/s\u001b[0m eta \u001b[36m0:00:00\u001b[0m\n",
            "\u001b[?25hDownloading nvidia_curand_cu12-10.3.5.147-py3-none-manylinux2014_x86_64.whl (56.3 MB)\n",
            "\u001b[2K   \u001b[90m━━━━━━━━━━━━━━━━━━━━━━━━━━━━━━━━━━━━━━━━\u001b[0m \u001b[32m56.3/56.3 MB\u001b[0m \u001b[31m13.0 MB/s\u001b[0m eta \u001b[36m0:00:00\u001b[0m\n",
            "\u001b[?25hDownloading nvidia_cusolver_cu12-11.6.1.9-py3-none-manylinux2014_x86_64.whl (127.9 MB)\n",
            "\u001b[2K   \u001b[90m━━━━━━━━━━━━━━━━━━━━━━━━━━━━━━━━━━━━━━━━\u001b[0m \u001b[32m127.9/127.9 MB\u001b[0m \u001b[31m7.3 MB/s\u001b[0m eta \u001b[36m0:00:00\u001b[0m\n",
            "\u001b[?25hDownloading nvidia_cusparse_cu12-12.3.1.170-py3-none-manylinux2014_x86_64.whl (207.5 MB)\n",
            "\u001b[2K   \u001b[90m━━━━━━━━━━━━━━━━━━━━━━━━━━━━━━━━━━━━━━━━\u001b[0m \u001b[32m207.5/207.5 MB\u001b[0m \u001b[31m5.5 MB/s\u001b[0m eta \u001b[36m0:00:00\u001b[0m\n",
            "\u001b[?25hDownloading nvidia_nvjitlink_cu12-12.4.127-py3-none-manylinux2014_x86_64.whl (21.1 MB)\n",
            "\u001b[2K   \u001b[90m━━━━━━━━━━━━━━━━━━━━━━━━━━━━━━━━━━━━━━━━\u001b[0m \u001b[32m21.1/21.1 MB\u001b[0m \u001b[31m74.8 MB/s\u001b[0m eta \u001b[36m0:00:00\u001b[0m\n",
            "\u001b[?25hInstalling collected packages: nvidia-nvjitlink-cu12, nvidia-curand-cu12, nvidia-cufft-cu12, nvidia-cuda-runtime-cu12, nvidia-cuda-nvrtc-cu12, nvidia-cuda-cupti-cu12, nvidia-cublas-cu12, nvidia-cusparse-cu12, nvidia-cudnn-cu12, nvidia-cusolver-cu12\n",
            "  Attempting uninstall: nvidia-nvjitlink-cu12\n",
            "    Found existing installation: nvidia-nvjitlink-cu12 12.5.82\n",
            "    Uninstalling nvidia-nvjitlink-cu12-12.5.82:\n",
            "      Successfully uninstalled nvidia-nvjitlink-cu12-12.5.82\n",
            "  Attempting uninstall: nvidia-curand-cu12\n",
            "    Found existing installation: nvidia-curand-cu12 10.3.6.82\n",
            "    Uninstalling nvidia-curand-cu12-10.3.6.82:\n",
            "      Successfully uninstalled nvidia-curand-cu12-10.3.6.82\n",
            "  Attempting uninstall: nvidia-cufft-cu12\n",
            "    Found existing installation: nvidia-cufft-cu12 11.2.3.61\n",
            "    Uninstalling nvidia-cufft-cu12-11.2.3.61:\n",
            "      Successfully uninstalled nvidia-cufft-cu12-11.2.3.61\n",
            "  Attempting uninstall: nvidia-cuda-runtime-cu12\n",
            "    Found existing installation: nvidia-cuda-runtime-cu12 12.5.82\n",
            "    Uninstalling nvidia-cuda-runtime-cu12-12.5.82:\n",
            "      Successfully uninstalled nvidia-cuda-runtime-cu12-12.5.82\n",
            "  Attempting uninstall: nvidia-cuda-nvrtc-cu12\n",
            "    Found existing installation: nvidia-cuda-nvrtc-cu12 12.5.82\n",
            "    Uninstalling nvidia-cuda-nvrtc-cu12-12.5.82:\n",
            "      Successfully uninstalled nvidia-cuda-nvrtc-cu12-12.5.82\n",
            "  Attempting uninstall: nvidia-cuda-cupti-cu12\n",
            "    Found existing installation: nvidia-cuda-cupti-cu12 12.5.82\n",
            "    Uninstalling nvidia-cuda-cupti-cu12-12.5.82:\n",
            "      Successfully uninstalled nvidia-cuda-cupti-cu12-12.5.82\n",
            "  Attempting uninstall: nvidia-cublas-cu12\n",
            "    Found existing installation: nvidia-cublas-cu12 12.5.3.2\n",
            "    Uninstalling nvidia-cublas-cu12-12.5.3.2:\n",
            "      Successfully uninstalled nvidia-cublas-cu12-12.5.3.2\n",
            "  Attempting uninstall: nvidia-cusparse-cu12\n",
            "    Found existing installation: nvidia-cusparse-cu12 12.5.1.3\n",
            "    Uninstalling nvidia-cusparse-cu12-12.5.1.3:\n",
            "      Successfully uninstalled nvidia-cusparse-cu12-12.5.1.3\n",
            "  Attempting uninstall: nvidia-cudnn-cu12\n",
            "    Found existing installation: nvidia-cudnn-cu12 9.3.0.75\n",
            "    Uninstalling nvidia-cudnn-cu12-9.3.0.75:\n",
            "      Successfully uninstalled nvidia-cudnn-cu12-9.3.0.75\n",
            "  Attempting uninstall: nvidia-cusolver-cu12\n",
            "    Found existing installation: nvidia-cusolver-cu12 11.6.3.83\n",
            "    Uninstalling nvidia-cusolver-cu12-11.6.3.83:\n",
            "      Successfully uninstalled nvidia-cusolver-cu12-11.6.3.83\n",
            "Successfully installed nvidia-cublas-cu12-12.4.5.8 nvidia-cuda-cupti-cu12-12.4.127 nvidia-cuda-nvrtc-cu12-12.4.127 nvidia-cuda-runtime-cu12-12.4.127 nvidia-cudnn-cu12-9.1.0.70 nvidia-cufft-cu12-11.2.1.3 nvidia-curand-cu12-10.3.5.147 nvidia-cusolver-cu12-11.6.1.9 nvidia-cusparse-cu12-12.3.1.170 nvidia-nvjitlink-cu12-12.4.127\n"
          ]
        }
      ],
      "source": [
        "# Install necessary libraries\n",
        "!pip install torch torchvision wandb matplotlib pillow"
      ]
    },
    {
      "cell_type": "code",
      "source": [
        "from google.colab import drive\n",
        "drive.mount('/content/drive')\n",
        "## downloading dataset from google drive"
      ],
      "metadata": {
        "colab": {
          "base_uri": "https://localhost:8080/"
        },
        "id": "zRjFL0pSBYbR",
        "outputId": "b68f485c-fcd2-4843-8e9a-3ebd3bf64089"
      },
      "execution_count": 2,
      "outputs": [
        {
          "output_type": "stream",
          "name": "stdout",
          "text": [
            "Mounted at /content/drive\n"
          ]
        }
      ]
    },
    {
      "cell_type": "code",
      "source": [
        "!gdown --id 1QXLgo3ZfQPorGwhYVmZUEWO_sU3i1pHM --output dataset.zip\n",
        "!unzip -q dataset.zip -d data\n"
      ],
      "metadata": {
        "colab": {
          "base_uri": "https://localhost:8080/"
        },
        "id": "QJtqMeiZB5j7",
        "outputId": "8fe9a77e-2338-4444-b86d-de60a136f4ac"
      },
      "execution_count": 4,
      "outputs": [
        {
          "output_type": "stream",
          "name": "stdout",
          "text": [
            "/usr/local/lib/python3.11/dist-packages/gdown/__main__.py:140: FutureWarning: Option `--id` was deprecated in version 4.3.1 and will be removed in 5.0. You don't need to pass it anymore to use a file ID.\n",
            "  warnings.warn(\n",
            "Downloading...\n",
            "From: https://drive.google.com/uc?id=1QXLgo3ZfQPorGwhYVmZUEWO_sU3i1pHM\n",
            "To: /content/dataset.zip\n",
            "100% 57.8k/57.8k [00:00<00:00, 96.1MB/s]\n"
          ]
        }
      ]
    },
    {
      "cell_type": "code",
      "source": [
        "import wandb\n",
        "wandb.login()\n"
      ],
      "metadata": {
        "colab": {
          "base_uri": "https://localhost:8080/",
          "height": 211
        },
        "id": "AU_OK9dRCI-F",
        "outputId": "dacbe445-de8d-484a-dfe5-e460fdd922bd"
      },
      "execution_count": 5,
      "outputs": [
        {
          "output_type": "display_data",
          "data": {
            "text/plain": [
              "<IPython.core.display.Javascript object>"
            ],
            "application/javascript": [
              "\n",
              "        window._wandbApiKey = new Promise((resolve, reject) => {\n",
              "            function loadScript(url) {\n",
              "            return new Promise(function(resolve, reject) {\n",
              "                let newScript = document.createElement(\"script\");\n",
              "                newScript.onerror = reject;\n",
              "                newScript.onload = resolve;\n",
              "                document.body.appendChild(newScript);\n",
              "                newScript.src = url;\n",
              "            });\n",
              "            }\n",
              "            loadScript(\"https://cdn.jsdelivr.net/npm/postmate/build/postmate.min.js\").then(() => {\n",
              "            const iframe = document.createElement('iframe')\n",
              "            iframe.style.cssText = \"width:0;height:0;border:none\"\n",
              "            document.body.appendChild(iframe)\n",
              "            const handshake = new Postmate({\n",
              "                container: iframe,\n",
              "                url: 'https://wandb.ai/authorize'\n",
              "            });\n",
              "            const timeout = setTimeout(() => reject(\"Couldn't auto authenticate\"), 5000)\n",
              "            handshake.then(function(child) {\n",
              "                child.on('authorize', data => {\n",
              "                    clearTimeout(timeout)\n",
              "                    resolve(data)\n",
              "                });\n",
              "            });\n",
              "            })\n",
              "        });\n",
              "    "
            ]
          },
          "metadata": {}
        },
        {
          "output_type": "stream",
          "name": "stderr",
          "text": [
            "\u001b[34m\u001b[1mwandb\u001b[0m: Logging into wandb.ai. (Learn how to deploy a W&B server locally: https://wandb.me/wandb-server)\n",
            "\u001b[34m\u001b[1mwandb\u001b[0m: You can find your API key in your browser here: https://wandb.ai/authorize\n",
            "wandb: Paste an API key from your profile and hit enter:"
          ]
        },
        {
          "name": "stdout",
          "output_type": "stream",
          "text": [
            " ··········\n"
          ]
        },
        {
          "output_type": "stream",
          "name": "stderr",
          "text": [
            "\u001b[34m\u001b[1mwandb\u001b[0m: \u001b[33mWARNING\u001b[0m If you're specifying your api key in code, ensure this code is not shared publicly.\n",
            "\u001b[34m\u001b[1mwandb\u001b[0m: \u001b[33mWARNING\u001b[0m Consider setting the WANDB_API_KEY environment variable, or running `wandb login` from the command line.\n",
            "\u001b[34m\u001b[1mwandb\u001b[0m: No netrc file found, creating one.\n",
            "\u001b[34m\u001b[1mwandb\u001b[0m: Appending key for api.wandb.ai to your netrc file: /root/.netrc\n",
            "\u001b[34m\u001b[1mwandb\u001b[0m: Currently logged in as: \u001b[33mbasuchandril402\u001b[0m (\u001b[33mbasuchandril402-jadavpur-university-press\u001b[0m) to \u001b[32mhttps://api.wandb.ai\u001b[0m. Use \u001b[1m`wandb login --relogin`\u001b[0m to force relogin\n"
          ]
        },
        {
          "output_type": "execute_result",
          "data": {
            "text/plain": [
              "True"
            ]
          },
          "metadata": {},
          "execution_count": 5
        }
      ]
    },
    {
      "cell_type": "code",
      "source": [
        "wandb.init(\n",
        "    project=\"ayna-unet-colorizer\",  # or any unique project name\n",
        "    name=\"unet-l1loss-100epochs\",   # custom run name\n",
        "    config={\n",
        "        \"epochs\": 100,\n",
        "        \"batch_size\": 8,\n",
        "        \"learning_rate\": 1e-3,\n",
        "        \"loss\": \"L1 + 0.2*CrossEntropy\",\n",
        "        \"conditioning\": \"OuterProduct (Conv)\",\n",
        "        \"model\": \"UNet\",\n",
        "        \"image_size\": 128,\n",
        "        \"color_map_dim\": 10\n",
        "    }\n",
        ")\n"
      ],
      "metadata": {
        "colab": {
          "base_uri": "https://localhost:8080/",
          "height": 229
        },
        "id": "Imd-z-kLO-1s",
        "outputId": "9c867d60-7dfe-45a2-f52f-d627bb0e7ad8"
      },
      "execution_count": 52,
      "outputs": [
        {
          "output_type": "display_data",
          "data": {
            "text/plain": [
              "<IPython.core.display.HTML object>"
            ],
            "text/html": [
              "Finishing previous runs because reinit is set to 'default'."
            ]
          },
          "metadata": {}
        },
        {
          "output_type": "display_data",
          "data": {
            "text/plain": [
              "<IPython.core.display.HTML object>"
            ],
            "text/html": []
          },
          "metadata": {}
        },
        {
          "output_type": "display_data",
          "data": {
            "text/plain": [
              "<IPython.core.display.HTML object>"
            ],
            "text/html": [
              " View run <strong style=\"color:#cdcd00\">unet-l1loss-100epochs</strong> at: <a href='https://wandb.ai/basuchandril402-jadavpur-university-press/ayna-unet-colorizer/runs/bpxo7jq7' target=\"_blank\">https://wandb.ai/basuchandril402-jadavpur-university-press/ayna-unet-colorizer/runs/bpxo7jq7</a><br> View project at: <a href='https://wandb.ai/basuchandril402-jadavpur-university-press/ayna-unet-colorizer' target=\"_blank\">https://wandb.ai/basuchandril402-jadavpur-university-press/ayna-unet-colorizer</a><br>Synced 5 W&B file(s), 0 media file(s), 0 artifact file(s) and 0 other file(s)"
            ]
          },
          "metadata": {}
        },
        {
          "output_type": "display_data",
          "data": {
            "text/plain": [
              "<IPython.core.display.HTML object>"
            ],
            "text/html": [
              "Find logs at: <code>./wandb/run-20250802_192207-bpxo7jq7/logs</code>"
            ]
          },
          "metadata": {}
        },
        {
          "output_type": "display_data",
          "data": {
            "text/plain": [
              "<IPython.core.display.HTML object>"
            ],
            "text/html": [
              "Tracking run with wandb version 0.21.0"
            ]
          },
          "metadata": {}
        },
        {
          "output_type": "display_data",
          "data": {
            "text/plain": [
              "<IPython.core.display.HTML object>"
            ],
            "text/html": [
              "Run data is saved locally in <code>/content/wandb/run-20250802_192219-eh2fl07j</code>"
            ]
          },
          "metadata": {}
        },
        {
          "output_type": "display_data",
          "data": {
            "text/plain": [
              "<IPython.core.display.HTML object>"
            ],
            "text/html": [
              "Syncing run <strong><a href='https://wandb.ai/basuchandril402-jadavpur-university-press/ayna-unet-colorizer/runs/eh2fl07j' target=\"_blank\">unet-l1loss-100epochs</a></strong> to <a href='https://wandb.ai/basuchandril402-jadavpur-university-press/ayna-unet-colorizer' target=\"_blank\">Weights & Biases</a> (<a href='https://wandb.me/developer-guide' target=\"_blank\">docs</a>)<br>"
            ]
          },
          "metadata": {}
        },
        {
          "output_type": "display_data",
          "data": {
            "text/plain": [
              "<IPython.core.display.HTML object>"
            ],
            "text/html": [
              " View project at <a href='https://wandb.ai/basuchandril402-jadavpur-university-press/ayna-unet-colorizer' target=\"_blank\">https://wandb.ai/basuchandril402-jadavpur-university-press/ayna-unet-colorizer</a>"
            ]
          },
          "metadata": {}
        },
        {
          "output_type": "display_data",
          "data": {
            "text/plain": [
              "<IPython.core.display.HTML object>"
            ],
            "text/html": [
              " View run at <a href='https://wandb.ai/basuchandril402-jadavpur-university-press/ayna-unet-colorizer/runs/eh2fl07j' target=\"_blank\">https://wandb.ai/basuchandril402-jadavpur-university-press/ayna-unet-colorizer/runs/eh2fl07j</a>"
            ]
          },
          "metadata": {}
        },
        {
          "output_type": "execute_result",
          "data": {
            "text/html": [
              "<button onClick=\"this.nextSibling.style.display='block';this.style.display='none';\">Display W&B run</button><iframe src='https://wandb.ai/basuchandril402-jadavpur-university-press/ayna-unet-colorizer/runs/eh2fl07j?jupyter=true' style='border:none;width:100%;height:420px;display:none;'></iframe>"
            ],
            "text/plain": [
              "<wandb.sdk.wandb_run.Run at 0x79b7971f80d0>"
            ]
          },
          "metadata": {},
          "execution_count": 52
        }
      ]
    },
    {
      "cell_type": "markdown",
      "source": [
        "Define Dataset Class (Polygon Dataset Class)"
      ],
      "metadata": {
        "id": "Uats8MXqDrmN"
      }
    },
    {
      "cell_type": "code",
      "source": [
        "color_map = {\n",
        "    \"red\": 0,\n",
        "    \"blue\": 1,\n",
        "    \"green\": 2,\n",
        "    \"yellow\": 3,\n",
        "    \"black\": 4,\n",
        "    \"white\": 5,\n",
        "    \"cyan\": 6,\n",
        "    \"magenta\": 7,\n",
        "    \"orange\": 8,\n",
        "    \"purple\": 9,\n",
        "}\n"
      ],
      "metadata": {
        "id": "dd4n1dG3Fhj-"
      },
      "execution_count": 15,
      "outputs": []
    },
    {
      "cell_type": "code",
      "source": [
        "import torch\n",
        "from torch.utils.data import Dataset\n",
        "from PIL import Image\n",
        "import json\n",
        "import os\n",
        "import torchvision.transforms as T\n",
        "\n",
        "class PolygonColorDataset(Dataset):\n",
        "    def __init__(self, data_dir, json_file, transform=None, color_map=None):\n",
        "        with open(json_file, 'r') as f:\n",
        "            self.data = json.load(f)\n",
        "        self.dir = data_dir\n",
        "        self.transform = transform\n",
        "        self.color_map = color_map or {\n",
        "            \"red\": 0, \"blue\": 1, \"green\": 2, \"yellow\": 3,\n",
        "            \"black\": 4, \"white\": 5, \"cyan\": 6, \"magenta\": 7,\n",
        "            \"orange\": 8, \"purple\": 9\n",
        "        }\n",
        "        self.colors = list(self.color_map.keys())\n",
        "\n",
        "    def __len__(self):\n",
        "        return len(self.data)\n",
        "\n",
        "    def __getitem__(self, idx):\n",
        "        item = self.data[idx]\n",
        "        input_path = os.path.join(self.dir, \"inputs\", item[\"input_polygon\"])\n",
        "        output_path = os.path.join(self.dir, \"outputs\", item[\"output_image\"])\n",
        "        color = item[\"colour\"]  # UK spelling!\n",
        "\n",
        "        x = Image.open(input_path).convert(\"L\")     # Grayscale input\n",
        "        y = Image.open(output_path).convert(\"RGB\")  # Colored output\n",
        "\n",
        "        if self.transform:\n",
        "            x = self.transform(x)\n",
        "            y = self.transform(y)\n",
        "\n",
        "        color_tensor = torch.zeros(len(self.color_map))\n",
        "        color_tensor[self.color_map[color]] = 1.0\n",
        "\n",
        "        return (x, color_tensor), y\n",
        "\n"
      ],
      "metadata": {
        "id": "l7MnTp3UDpEB"
      },
      "execution_count": 17,
      "outputs": []
    },
    {
      "cell_type": "markdown",
      "source": [
        "Load Dataset & Show a Sample\n"
      ],
      "metadata": {
        "id": "BkS57xChD6jq"
      }
    },
    {
      "cell_type": "code",
      "source": [
        "from torch.utils.data import DataLoader\n",
        "import matplotlib.pyplot as plt\n",
        "\n",
        "# Define color map (should match the dataset)\n",
        "color_map = {\n",
        "    \"red\": 0, \"blue\": 1, \"green\": 2, \"yellow\": 3,\n",
        "    \"black\": 4, \"white\": 5, \"cyan\": 6, \"magenta\": 7,\n",
        "    \"orange\": 8, \"purple\": 9\n",
        "}\n",
        "\n",
        "# Define image transformation (resize + tensor conversion)\n",
        "transform = T.Compose([\n",
        "    T.Resize((128, 128)),\n",
        "    T.ToTensor()\n",
        "])\n",
        "\n",
        "# Create dataset and dataloader\n",
        "train_ds = PolygonColorDataset(\n",
        "    data_dir=\"data/dataset/training\",\n",
        "    json_file=\"data/dataset/training/data.json\",\n",
        "    transform=transform,\n",
        "    color_map=color_map\n",
        ")\n",
        "\n",
        "train_dl = DataLoader(train_ds, batch_size=8, shuffle=True)\n"
      ],
      "metadata": {
        "id": "w26AYwElD7cL"
      },
      "execution_count": 18,
      "outputs": []
    },
    {
      "cell_type": "code",
      "source": [
        "import json\n",
        "\n",
        "with open(\"data/dataset/training/data.json\", \"r\") as f:\n",
        "    data = json.load(f)\n",
        "\n",
        "print(\"Number of items:\", len(data))\n",
        "print(\"First item:\", data[0])\n"
      ],
      "metadata": {
        "colab": {
          "base_uri": "https://localhost:8080/"
        },
        "id": "gHmkJ6ShEkGv",
        "outputId": "28e4cb70-a1f2-42b0-ef48-891305dd781a"
      },
      "execution_count": 14,
      "outputs": [
        {
          "output_type": "stream",
          "name": "stdout",
          "text": [
            "Number of items: 56\n",
            "First item: {'input_polygon': 'octagon.png', 'colour': 'cyan', 'output_image': 'cyan_octagon.png'}\n"
          ]
        }
      ]
    },
    {
      "cell_type": "markdown",
      "source": [],
      "metadata": {
        "id": "HUgCjMMOEoP3"
      }
    },
    {
      "cell_type": "code",
      "source": [
        "# Visualize one sample\n",
        "(x, color), y = train_ds[0]\n",
        "\n",
        "plt.figure(figsize=(12, 3))\n",
        "\n",
        "plt.subplot(1, 3, 1)\n",
        "plt.imshow(x.squeeze(), cmap='gray')\n",
        "plt.title(\"Input Polygon (Grayscale)\")\n",
        "\n",
        "plt.subplot(1, 3, 2)\n",
        "plt.bar(train_ds.colors, color.numpy())\n",
        "plt.title(\"Color Name (One-hot)\")\n",
        "\n",
        "plt.subplot(1, 3, 3)\n",
        "plt.imshow(y.permute(1, 2, 0))\n",
        "plt.title(\"Target Colored Output\")\n",
        "\n",
        "plt.show()\n"
      ],
      "metadata": {
        "colab": {
          "base_uri": "https://localhost:8080/",
          "height": 334
        },
        "id": "wsUNcsP1EBb4",
        "outputId": "6b335aa3-8221-42c1-8e3c-64236c658bff"
      },
      "execution_count": 19,
      "outputs": [
        {
          "output_type": "display_data",
          "data": {
            "text/plain": [
              "<Figure size 1200x300 with 3 Axes>"
            ],
            "image/png": "[encoded data removed]"
          },
          "metadata": {}
        }
      ]
    },
    {
      "cell_type": "markdown",
      "source": [
        "Implementing UNet in PyTorch\n"
      ],
      "metadata": {
        "id": "hWAm6a90GRco"
      }
    },
    {
      "cell_type": "code",
      "source": [
        "import torch.nn as nn\n",
        "import torch.nn.functional as F\n",
        "\n",
        "class ConvBlock(nn.Module):\n",
        "    def __init__(self, in_ch, out_ch):\n",
        "        super(ConvBlock, self).__init__()\n",
        "        self.block = nn.Sequential(\n",
        "            nn.Conv2d(in_ch, out_ch, kernel_size=3, padding=1),\n",
        "            nn.BatchNorm2d(out_ch),\n",
        "            nn.ReLU(inplace=True),\n",
        "            nn.Conv2d(out_ch, out_ch, kernel_size=3, padding=1),\n",
        "            nn.BatchNorm2d(out_ch),\n",
        "            nn.ReLU(inplace=True),\n",
        "        )\n",
        "\n",
        "    def forward(self, x):\n",
        "        return self.block(x)\n",
        "\n",
        "class UNet(nn.Module):\n",
        "    def __init__(self, in_channels=1, n_classes=3, cond_dim=10):  # cond_dim = len(color_map)\n",
        "        super(UNet, self).__init__()\n",
        "        self.cond_dim = cond_dim\n",
        "        self.in_channels = in_channels\n",
        "\n",
        "        # Conditioning layers (outer product trick)\n",
        "        self.cond_to_map = nn.Sequential(\n",
        "            nn.Linear(cond_dim, 128),\n",
        "            nn.ReLU(),\n",
        "        )\n",
        "\n",
        "        # Encoder\n",
        "        self.enc1 = ConvBlock(in_channels + 1, 64)\n",
        "        self.pool1 = nn.MaxPool2d(2)\n",
        "\n",
        "        self.enc2 = ConvBlock(64, 128)\n",
        "        self.pool2 = nn.MaxPool2d(2)\n",
        "\n",
        "        self.enc3 = ConvBlock(128, 256)\n",
        "        self.pool3 = nn.MaxPool2d(2)\n",
        "\n",
        "        self.enc4 = ConvBlock(256, 512)\n",
        "        self.pool4 = nn.MaxPool2d(2)\n",
        "\n",
        "        # Bottleneck\n",
        "        self.bottleneck = ConvBlock(512, 1024)\n",
        "        self.color_classifier = nn.Sequential(\n",
        "            nn.AdaptiveAvgPool2d((1, 1)),      # Global pooling\n",
        "            nn.Flatten(),                      # (B, 1024)\n",
        "            nn.Linear(1024, cond_dim)          # Predict one of 10 colors\n",
        "        )\n",
        "\n",
        "        # Decoder\n",
        "        self.upconv4 = nn.ConvTranspose2d(1024, 512, kernel_size=2, stride=2)\n",
        "        self.dec4 = ConvBlock(1024, 512)\n",
        "\n",
        "        self.upconv3 = nn.ConvTranspose2d(512, 256, kernel_size=2, stride=2)\n",
        "        self.dec3 = ConvBlock(512, 256)\n",
        "\n",
        "        self.upconv2 = nn.ConvTranspose2d(256, 128, kernel_size=2, stride=2)\n",
        "        self.dec2 = ConvBlock(256, 128)\n",
        "\n",
        "        self.upconv1 = nn.ConvTranspose2d(128, 64, kernel_size=2, stride=2)\n",
        "        self.dec1 = ConvBlock(128, 64)\n",
        "\n",
        "        self.final_conv = nn.Conv2d(64, n_classes, kernel_size=1)\n",
        "\n",
        "    def forward(self, x, cond):  # x: (B,1,128,128), cond: (B,10)\n",
        "        B, _, H, W = x.shape\n",
        "\n",
        "        # Conditioning map from outer product of learned projections\n",
        "        h_embed = self.cond_to_map(cond).unsqueeze(2)  # (B, 128, 1)\n",
        "        w_embed = self.cond_to_map(cond).unsqueeze(1)  # (B, 1, 128)\n",
        "        cond_map = torch.bmm(h_embed, w_embed)         # (B, 128, 128)\n",
        "        cond_map = cond_map.unsqueeze(1)               # (B, 1, 128, 128)\n",
        "\n",
        "        # Concatenate with image input\n",
        "        x = torch.cat([x, cond_map], dim=1)  # (B, 2, 128, 128)\n",
        "\n",
        "        # Encoder\n",
        "        e1 = self.enc1(x)\n",
        "        e2 = self.enc2(self.pool1(e1))\n",
        "        e3 = self.enc3(self.pool2(e2))\n",
        "        e4 = self.enc4(self.pool3(e3))\n",
        "\n",
        "        # Bottleneck\n",
        "        b = self.bottleneck(self.pool4(e4))\n",
        "\n",
        "        # Decoder\n",
        "        d4 = self.upconv4(b)\n",
        "        d4 = self.dec4(torch.cat([d4, e4], dim=1))\n",
        "\n",
        "        d3 = self.upconv3(d4)\n",
        "        d3 = self.dec3(torch.cat([d3, e3], dim=1))\n",
        "\n",
        "        d2 = self.upconv2(d3)\n",
        "        d2 = self.dec2(torch.cat([d2, e2], dim=1))\n",
        "\n",
        "        d1 = self.upconv1(d2)\n",
        "        d1 = self.dec1(torch.cat([d1, e1], dim=1))\n",
        "\n",
        "        out = self.final_conv(d1)\n",
        "        out = torch.sigmoid(out)  # normalize to [0, 1]\n",
        "        # Predict color class from bottleneck\n",
        "        color_pred = self.color_classifier(b)\n",
        "        return out, color_pred\n",
        "\n"
      ],
      "metadata": {
        "id": "QMmzcG_GGSVU"
      },
      "execution_count": 53,
      "outputs": []
    },
    {
      "cell_type": "markdown",
      "source": [
        "Training Loop with wandb Logging"
      ],
      "metadata": {
        "id": "iAn-9P5KGgd-"
      }
    },
    {
      "cell_type": "code",
      "source": [
        "import torch.optim as optim\n",
        "import wandb\n",
        "\n",
        "# Login to wandb\n",
        "wandb.login()\n",
        "\n",
        "# Initialize wandb project\n",
        "wandb.init(\n",
        "    project=\"ayna-unet-colorization\",\n",
        "    name=\"unet-l1loss-100epochs\",\n",
        "    config={\n",
        "        \"epochs\": 100,\n",
        "        \"batch_size\": 8,\n",
        "        \"learning_rate\": 1e-3,\n",
        "        \"loss\": \"L1 + 0.2*CrossEntropy\",\n",
        "        \"conditioning\": \"OuterProduct (Conv)\",\n",
        "        \"model\": \"UNet\",\n",
        "        \"image_size\": 128,\n",
        "        \"color_map_dim\": len(color_map)\n",
        "    }\n",
        ")\n",
        "\n",
        "# Set device\n",
        "device = torch.device(\"cuda\" if torch.cuda.is_available() else \"cpu\")\n",
        "print(\"Using device:\", device)\n",
        "\n",
        "# Model, optimizer, loss\n",
        "model = UNet(in_channels=1, n_classes=3, cond_dim=len(color_map)).to(device)\n",
        "optimizer = optim.Adam(model.parameters(), lr=1e-3)\n",
        "criterion = nn.L1Loss()\n",
        "class_loss_fn = nn.CrossEntropyLoss()\n",
        "\n",
        "# Dataloader again (in case rerun)\n",
        "train_dl = DataLoader(train_ds, batch_size=8, shuffle=True)\n",
        "\n",
        "# Training loop\n",
        "epochs = 100\n",
        "λ = 0.2  # weighting for auxiliary loss\n",
        "\n",
        "for epoch in range(epochs):\n",
        "    model.train()\n",
        "    epoch_total_loss = 0\n",
        "    epoch_image_loss = 0\n",
        "    epoch_color_loss = 0\n",
        "\n",
        "    for batch in train_dl:\n",
        "        (x, color), y = batch\n",
        "        x, color, y = x.to(device), color.to(device), y.to(device)\n",
        "\n",
        "        optimizer.zero_grad()\n",
        "        output, color_pred = model(x, color)\n",
        "\n",
        "        image_loss = criterion(output, y)\n",
        "        target_class = torch.argmax(color, dim=1)\n",
        "        color_loss = class_loss_fn(color_pred, target_class)\n",
        "\n",
        "        loss = image_loss + λ * color_loss\n",
        "        loss.backward()\n",
        "        optimizer.step()\n",
        "\n",
        "        epoch_total_loss += loss.item()\n",
        "        epoch_image_loss += image_loss.item()\n",
        "        epoch_color_loss += color_loss.item()\n",
        "\n",
        "    avg_total = epoch_total_loss / len(train_dl)\n",
        "    avg_image = epoch_image_loss / len(train_dl)\n",
        "    avg_color = epoch_color_loss / len(train_dl)\n",
        "\n",
        "    # Log to wandb\n",
        "    wandb.log({\n",
        "        \"epoch\": epoch + 1,\n",
        "        \"total_loss\": avg_total,\n",
        "        \"image_loss\": avg_image,\n",
        "        \"color_loss\": avg_color\n",
        "    })\n",
        "\n",
        "    print(f\"Epoch {epoch+1}/{epochs} - Total Loss: {avg_total:.4f} | Image: {avg_image:.4f} | Color: {avg_color:.4f}\")\n",
        "\n",
        "    # 📸 Log a prediction sample every 10 epochs\n",
        "    if (epoch + 1) % 10 == 0:\n",
        "        model.eval()\n",
        "        (sample_x, sample_color), sample_y = next(iter(train_dl))\n",
        "        sample_x = sample_x.to(device)\n",
        "        sample_color = sample_color.to(device)\n",
        "        sample_y = sample_y.to(device)\n",
        "\n",
        "        with torch.no_grad():\n",
        "            sample_pred, sample_logits = model(sample_x, sample_color)\n",
        "\n",
        "        # Log first item\n",
        "        input_img = sample_x[0].squeeze().cpu().numpy()\n",
        "        pred_img = sample_pred[0].permute(1, 2, 0).cpu().numpy().clip(0, 1)\n",
        "        true_img = sample_y[0].permute(1, 2, 0).cpu().numpy()\n",
        "\n",
        "        pred_class = torch.argmax(sample_logits[0]).item()\n",
        "        pred_color = list(color_map.keys())[list(color_map.values()).index(pred_class)]\n",
        "\n",
        "        wandb.log({\n",
        "            f\"Sample Input (Epoch {epoch+1})\": wandb.Image(input_img, caption=\"Input Polygon\"),\n",
        "            f\"Model Output (Pred: {pred_color})\": wandb.Image(pred_img, caption=\"Model Output\"),\n",
        "            f\"Ground Truth\": wandb.Image(true_img, caption=\"Target Image\")\n",
        "        })\n"
      ],
      "metadata": {
        "colab": {
          "base_uri": "https://localhost:8080/",
          "height": 1000
        },
        "id": "_Dep_N0dGhFi",
        "outputId": "5eb516d9-c716-40c2-fc84-2bfdc5159487"
      },
      "execution_count": 57,
      "outputs": [
        {
          "output_type": "stream",
          "name": "stderr",
          "text": [
            "\u001b[34m\u001b[1mwandb\u001b[0m: \u001b[33mWARNING\u001b[0m Calling wandb.login() after wandb.init() has no effect.\n"
          ]
        },
        {
          "output_type": "display_data",
          "data": {
            "text/plain": [
              "<IPython.core.display.HTML object>"
            ],
            "text/html": [
              "Finishing previous runs because reinit is set to 'default'."
            ]
          },
          "metadata": {}
        },
        {
          "output_type": "display_data",
          "data": {
            "text/plain": [
              "<IPython.core.display.HTML object>"
            ],
            "text/html": []
          },
          "metadata": {}
        },
        {
          "output_type": "display_data",
          "data": {
            "text/plain": [
              "<IPython.core.display.HTML object>"
            ],
            "text/html": [
              "<br>    <style><br>        .wandb-row {<br>            display: flex;<br>            flex-direction: row;<br>            flex-wrap: wrap;<br>            justify-content: flex-start;<br>            width: 100%;<br>        }<br>        .wandb-col {<br>            display: flex;<br>            flex-direction: column;<br>            flex-basis: 100%;<br>            flex: 1;<br>            padding: 10px;<br>        }<br>    </style><br><div class=\"wandb-row\"><div class=\"wandb-col\"><h3>Run history:</h3><br/><table class=\"wandb\"><tr><td>color_loss</td><td>████▅▂▂▁▁▁▂▁▁▁▁▁▁▁▁▁▁▁▁▁▁▁▁▁▁▁▂▁▁▁▁▁▁▁▁▁</td></tr><tr><td>epoch</td><td>▁▁▂▂▂▂▂▃▃▃▃▃▄▄▄▄▅▅▅▅▅▅▅▅▆▆▆▆▆▇▇▇▇▇▇▇▇███</td></tr><tr><td>image_loss</td><td>█▄▄▃▃▂▂▂▂▂▂▂▂▂▂▂▂▂▂▂▁▁▁▁▁▁▁▁▁▁▁▁▁▁▁▁▁▁▁▁</td></tr><tr><td>total_loss</td><td>█▇▇▇▆▂▂▂▂▂▁▁▁▁▁▁▁▁▁▁▁▁▁▁▁▁▂▁▁▁▁▁▁▁▁▁▁▁▁▁</td></tr></table><br/></div><div class=\"wandb-col\"><h3>Run summary:</h3><br/><table class=\"wandb\"><tr><td>color_loss</td><td>0.00366</td></tr><tr><td>epoch</td><td>100</td></tr><tr><td>image_loss</td><td>0.03662</td></tr><tr><td>total_loss</td><td>0.03736</td></tr></table><br/></div></div>"
            ]
          },
          "metadata": {}
        },
        {
          "output_type": "display_data",
          "data": {
            "text/plain": [
              "<IPython.core.display.HTML object>"
            ],
            "text/html": [
              " View run <strong style=\"color:#cdcd00\">unet-l1loss-100epochs</strong> at: <a href='https://wandb.ai/basuchandril402-jadavpur-university-press/ayna-unet-colorization/runs/na4n06le' target=\"_blank\">https://wandb.ai/basuchandril402-jadavpur-university-press/ayna-unet-colorization/runs/na4n06le</a><br> View project at: <a href='https://wandb.ai/basuchandril402-jadavpur-university-press/ayna-unet-colorization' target=\"_blank\">https://wandb.ai/basuchandril402-jadavpur-university-press/ayna-unet-colorization</a><br>Synced 5 W&B file(s), 30 media file(s), 0 artifact file(s) and 0 other file(s)"
            ]
          },
          "metadata": {}
        },
        {
          "output_type": "display_data",
          "data": {
            "text/plain": [
              "<IPython.core.display.HTML object>"
            ],
            "text/html": [
              "Find logs at: <code>./wandb/run-20250802_192600-na4n06le/logs</code>"
            ]
          },
          "metadata": {}
        },
        {
          "output_type": "display_data",
          "data": {
            "text/plain": [
              "<IPython.core.display.HTML object>"
            ],
            "text/html": [
              "Tracking run with wandb version 0.21.0"
            ]
          },
          "metadata": {}
        },
        {
          "output_type": "display_data",
          "data": {
            "text/plain": [
              "<IPython.core.display.HTML object>"
            ],
            "text/html": [
              "Run data is saved locally in <code>/content/wandb/run-20250802_192819-c5wnlbz6</code>"
            ]
          },
          "metadata": {}
        },
        {
          "output_type": "display_data",
          "data": {
            "text/plain": [
              "<IPython.core.display.HTML object>"
            ],
            "text/html": [
              "Syncing run <strong><a href='https://wandb.ai/basuchandril402-jadavpur-university-press/ayna-unet-colorization/runs/c5wnlbz6' target=\"_blank\">unet-l1loss-100epochs</a></strong> to <a href='https://wandb.ai/basuchandril402-jadavpur-university-press/ayna-unet-colorization' target=\"_blank\">Weights & Biases</a> (<a href='https://wandb.me/developer-guide' target=\"_blank\">docs</a>)<br>"
            ]
          },
          "metadata": {}
        },
        {
          "output_type": "display_data",
          "data": {
            "text/plain": [
              "<IPython.core.display.HTML object>"
            ],
            "text/html": [
              " View project at <a href='https://wandb.ai/basuchandril402-jadavpur-university-press/ayna-unet-colorization' target=\"_blank\">https://wandb.ai/basuchandril402-jadavpur-university-press/ayna-unet-colorization</a>"
            ]
          },
          "metadata": {}
        },
        {
          "output_type": "display_data",
          "data": {
            "text/plain": [
              "<IPython.core.display.HTML object>"
            ],
            "text/html": [
              " View run at <a href='https://wandb.ai/basuchandril402-jadavpur-university-press/ayna-unet-colorization/runs/c5wnlbz6' target=\"_blank\">https://wandb.ai/basuchandril402-jadavpur-university-press/ayna-unet-colorization/runs/c5wnlbz6</a>"
            ]
          },
          "metadata": {}
        },
        {
          "output_type": "stream",
          "name": "stdout",
          "text": [
            "Using device: cuda\n",
            "Epoch 1/100 - Total Loss: 0.9710 | Image: 0.4493 | Color: 2.6089\n",
            "Epoch 2/100 - Total Loss: 0.8255 | Image: 0.3788 | Color: 2.2332\n",
            "Epoch 3/100 - Total Loss: 0.7795 | Image: 0.3398 | Color: 2.1986\n",
            "Epoch 4/100 - Total Loss: 0.7354 | Image: 0.3105 | Color: 2.1242\n",
            "Epoch 5/100 - Total Loss: 0.7071 | Image: 0.2831 | Color: 2.1197\n",
            "Epoch 6/100 - Total Loss: 0.6765 | Image: 0.2565 | Color: 2.1001\n",
            "Epoch 7/100 - Total Loss: 0.6535 | Image: 0.2311 | Color: 2.1124\n",
            "Epoch 8/100 - Total Loss: 0.6341 | Image: 0.2068 | Color: 2.1362\n",
            "Epoch 9/100 - Total Loss: 0.6002 | Image: 0.1863 | Color: 2.0695\n",
            "Epoch 10/100 - Total Loss: 0.5789 | Image: 0.1723 | Color: 2.0327\n",
            "Epoch 11/100 - Total Loss: 0.4809 | Image: 0.1598 | Color: 1.6052\n",
            "Epoch 12/100 - Total Loss: 0.4300 | Image: 0.1495 | Color: 1.4025\n",
            "Epoch 13/100 - Total Loss: 0.4117 | Image: 0.1384 | Color: 1.3663\n",
            "Epoch 14/100 - Total Loss: 0.3284 | Image: 0.1320 | Color: 0.9822\n",
            "Epoch 15/100 - Total Loss: 0.2765 | Image: 0.1246 | Color: 0.7593\n",
            "Epoch 16/100 - Total Loss: 0.1931 | Image: 0.1164 | Color: 0.3833\n",
            "Epoch 17/100 - Total Loss: 0.1724 | Image: 0.1096 | Color: 0.3140\n",
            "Epoch 18/100 - Total Loss: 0.1883 | Image: 0.1064 | Color: 0.4095\n",
            "Epoch 19/100 - Total Loss: 0.1445 | Image: 0.1018 | Color: 0.2135\n",
            "Epoch 20/100 - Total Loss: 0.1156 | Image: 0.0970 | Color: 0.0927\n",
            "Epoch 21/100 - Total Loss: 0.1169 | Image: 0.0951 | Color: 0.1089\n",
            "Epoch 22/100 - Total Loss: 0.1289 | Image: 0.0917 | Color: 0.1860\n",
            "Epoch 23/100 - Total Loss: 0.1249 | Image: 0.0894 | Color: 0.1772\n",
            "Epoch 24/100 - Total Loss: 0.1099 | Image: 0.0866 | Color: 0.1166\n",
            "Epoch 25/100 - Total Loss: 0.0996 | Image: 0.0884 | Color: 0.0559\n",
            "Epoch 26/100 - Total Loss: 0.0875 | Image: 0.0838 | Color: 0.0184\n",
            "Epoch 27/100 - Total Loss: 0.0869 | Image: 0.0844 | Color: 0.0122\n",
            "Epoch 28/100 - Total Loss: 0.0883 | Image: 0.0832 | Color: 0.0252\n",
            "Epoch 29/100 - Total Loss: 0.0860 | Image: 0.0795 | Color: 0.0326\n",
            "Epoch 30/100 - Total Loss: 0.0900 | Image: 0.0816 | Color: 0.0416\n",
            "Epoch 31/100 - Total Loss: 0.0803 | Image: 0.0748 | Color: 0.0273\n",
            "Epoch 32/100 - Total Loss: 0.0795 | Image: 0.0736 | Color: 0.0292\n",
            "Epoch 33/100 - Total Loss: 0.0730 | Image: 0.0711 | Color: 0.0096\n",
            "Epoch 34/100 - Total Loss: 0.0737 | Image: 0.0717 | Color: 0.0098\n",
            "Epoch 35/100 - Total Loss: 0.0746 | Image: 0.0721 | Color: 0.0123\n",
            "Epoch 36/100 - Total Loss: 0.0721 | Image: 0.0701 | Color: 0.0098\n",
            "Epoch 37/100 - Total Loss: 0.0741 | Image: 0.0729 | Color: 0.0056\n",
            "Epoch 38/100 - Total Loss: 0.0825 | Image: 0.0742 | Color: 0.0418\n",
            "Epoch 39/100 - Total Loss: 0.0731 | Image: 0.0721 | Color: 0.0054\n",
            "Epoch 40/100 - Total Loss: 0.0684 | Image: 0.0669 | Color: 0.0073\n",
            "Epoch 41/100 - Total Loss: 0.0658 | Image: 0.0650 | Color: 0.0040\n",
            "Epoch 42/100 - Total Loss: 0.0654 | Image: 0.0643 | Color: 0.0056\n",
            "Epoch 43/100 - Total Loss: 0.0642 | Image: 0.0631 | Color: 0.0060\n",
            "Epoch 44/100 - Total Loss: 0.0643 | Image: 0.0615 | Color: 0.0137\n",
            "Epoch 45/100 - Total Loss: 0.0644 | Image: 0.0608 | Color: 0.0177\n",
            "Epoch 46/100 - Total Loss: 0.0646 | Image: 0.0615 | Color: 0.0156\n",
            "Epoch 47/100 - Total Loss: 0.0603 | Image: 0.0584 | Color: 0.0095\n",
            "Epoch 48/100 - Total Loss: 0.0594 | Image: 0.0581 | Color: 0.0066\n",
            "Epoch 49/100 - Total Loss: 0.0581 | Image: 0.0569 | Color: 0.0060\n",
            "Epoch 50/100 - Total Loss: 0.0624 | Image: 0.0616 | Color: 0.0042\n",
            "Epoch 51/100 - Total Loss: 0.0616 | Image: 0.0596 | Color: 0.0102\n",
            "Epoch 52/100 - Total Loss: 0.0615 | Image: 0.0575 | Color: 0.0201\n",
            "Epoch 53/100 - Total Loss: 0.0591 | Image: 0.0578 | Color: 0.0067\n",
            "Epoch 54/100 - Total Loss: 0.0602 | Image: 0.0542 | Color: 0.0299\n",
            "Epoch 55/100 - Total Loss: 0.0581 | Image: 0.0560 | Color: 0.0104\n",
            "Epoch 56/100 - Total Loss: 0.0623 | Image: 0.0578 | Color: 0.0223\n",
            "Epoch 57/100 - Total Loss: 0.0635 | Image: 0.0564 | Color: 0.0353\n",
            "Epoch 58/100 - Total Loss: 0.0711 | Image: 0.0560 | Color: 0.0755\n",
            "Epoch 59/100 - Total Loss: 0.0644 | Image: 0.0570 | Color: 0.0368\n",
            "Epoch 60/100 - Total Loss: 0.0605 | Image: 0.0547 | Color: 0.0288\n",
            "Epoch 61/100 - Total Loss: 0.0574 | Image: 0.0541 | Color: 0.0165\n",
            "Epoch 62/100 - Total Loss: 0.0532 | Image: 0.0512 | Color: 0.0103\n",
            "Epoch 63/100 - Total Loss: 0.0479 | Image: 0.0471 | Color: 0.0044\n",
            "Epoch 64/100 - Total Loss: 0.0487 | Image: 0.0480 | Color: 0.0037\n",
            "Epoch 65/100 - Total Loss: 0.0474 | Image: 0.0468 | Color: 0.0033\n",
            "Epoch 66/100 - Total Loss: 0.0529 | Image: 0.0521 | Color: 0.0044\n",
            "Epoch 67/100 - Total Loss: 0.0549 | Image: 0.0540 | Color: 0.0044\n",
            "Epoch 68/100 - Total Loss: 0.0520 | Image: 0.0508 | Color: 0.0064\n",
            "Epoch 69/100 - Total Loss: 0.0498 | Image: 0.0481 | Color: 0.0081\n",
            "Epoch 70/100 - Total Loss: 0.0441 | Image: 0.0433 | Color: 0.0038\n",
            "Epoch 71/100 - Total Loss: 0.0455 | Image: 0.0440 | Color: 0.0076\n",
            "Epoch 72/100 - Total Loss: 0.0476 | Image: 0.0466 | Color: 0.0049\n",
            "Epoch 73/100 - Total Loss: 0.0488 | Image: 0.0478 | Color: 0.0053\n",
            "Epoch 74/100 - Total Loss: 0.0409 | Image: 0.0401 | Color: 0.0040\n",
            "Epoch 75/100 - Total Loss: 0.0498 | Image: 0.0478 | Color: 0.0100\n",
            "Epoch 76/100 - Total Loss: 0.0442 | Image: 0.0435 | Color: 0.0037\n",
            "Epoch 77/100 - Total Loss: 0.0342 | Image: 0.0340 | Color: 0.0013\n",
            "Epoch 78/100 - Total Loss: 0.0363 | Image: 0.0358 | Color: 0.0028\n",
            "Epoch 79/100 - Total Loss: 0.0357 | Image: 0.0354 | Color: 0.0017\n",
            "Epoch 80/100 - Total Loss: 0.0341 | Image: 0.0335 | Color: 0.0028\n",
            "Epoch 81/100 - Total Loss: 0.0336 | Image: 0.0330 | Color: 0.0034\n",
            "Epoch 82/100 - Total Loss: 0.0334 | Image: 0.0328 | Color: 0.0032\n",
            "Epoch 83/100 - Total Loss: 0.0400 | Image: 0.0338 | Color: 0.0309\n",
            "Epoch 84/100 - Total Loss: 0.0432 | Image: 0.0361 | Color: 0.0352\n",
            "Epoch 85/100 - Total Loss: 0.0413 | Image: 0.0343 | Color: 0.0352\n",
            "Epoch 86/100 - Total Loss: 0.0400 | Image: 0.0361 | Color: 0.0196\n",
            "Epoch 87/100 - Total Loss: 0.0422 | Image: 0.0399 | Color: 0.0111\n",
            "Epoch 88/100 - Total Loss: 0.0450 | Image: 0.0384 | Color: 0.0331\n",
            "Epoch 89/100 - Total Loss: 0.0435 | Image: 0.0402 | Color: 0.0165\n",
            "Epoch 90/100 - Total Loss: 0.0466 | Image: 0.0446 | Color: 0.0101\n",
            "Epoch 91/100 - Total Loss: 0.0454 | Image: 0.0442 | Color: 0.0056\n",
            "Epoch 92/100 - Total Loss: 0.0431 | Image: 0.0418 | Color: 0.0065\n",
            "Epoch 93/100 - Total Loss: 0.0350 | Image: 0.0344 | Color: 0.0030\n",
            "Epoch 94/100 - Total Loss: 0.0343 | Image: 0.0334 | Color: 0.0041\n",
            "Epoch 95/100 - Total Loss: 0.0301 | Image: 0.0298 | Color: 0.0014\n",
            "Epoch 96/100 - Total Loss: 0.0346 | Image: 0.0338 | Color: 0.0039\n",
            "Epoch 97/100 - Total Loss: 0.0253 | Image: 0.0250 | Color: 0.0015\n",
            "Epoch 98/100 - Total Loss: 0.0239 | Image: 0.0235 | Color: 0.0022\n",
            "Epoch 99/100 - Total Loss: 0.0295 | Image: 0.0292 | Color: 0.0019\n",
            "Epoch 100/100 - Total Loss: 0.0264 | Image: 0.0252 | Color: 0.0058\n"
          ]
        }
      ]
    },
    {
      "cell_type": "markdown",
      "source": [
        "Inference Code Cell\n"
      ],
      "metadata": {
        "id": "EQncGBeoHGOn"
      }
    },
    {
      "cell_type": "code",
      "source": [
        "# Load the trained model\n",
        "model.eval()  # set to evaluation mode\n",
        "\n",
        "# Sample from validation set (or use training if val not defined yet)\n",
        "sample_idx = 3  # pick any index\n",
        "(x, color), y_true = train_ds[sample_idx]\n",
        "\n",
        "# Add batch dimension and move to device\n",
        "x = x.unsqueeze(0).to(device)          # shape: (1, 1, 128, 128)\n",
        "color = color.unsqueeze(0).to(device)  # shape: (1, cond_dim)\n",
        "\n",
        "# Run inference\n",
        "with torch.no_grad():\n",
        "    y_pred, _ = model(x, color)\n",
        "  # shape: (1, 3, 128, 128)\n",
        "\n",
        "# Move tensors to CPU and convert for display\n",
        "x_np = x.squeeze().cpu().numpy()\n",
        "y_pred_np = y_pred.squeeze().permute(1, 2, 0).cpu().numpy()\n",
        "y_true_np = y_true.permute(1, 2, 0).cpu().numpy()\n",
        "\n",
        "# Clamp predicted image to [0,1]\n",
        "y_pred_np = y_pred_np.clip(0, 1)\n",
        "\n",
        "# Plot results\n",
        "import matplotlib.pyplot as plt\n",
        "\n",
        "plt.figure(figsize=(12, 4))\n",
        "\n",
        "plt.subplot(1, 3, 1)\n",
        "plt.imshow(x_np, cmap='gray')\n",
        "plt.title(\"Input Polygon\")\n",
        "\n",
        "plt.subplot(1, 3, 2)\n",
        "plt.imshow(y_pred_np)\n",
        "plt.title(\"Model Output\")\n",
        "\n",
        "plt.subplot(1, 3, 3)\n",
        "plt.imshow(y_true_np)\n",
        "plt.title(\"Ground Truth\")\n",
        "\n",
        "plt.show()\n"
      ],
      "metadata": {
        "colab": {
          "base_uri": "https://localhost:8080/",
          "height": 255
        },
        "id": "gFXmP35OHIiF",
        "outputId": "5c8387c4-1bc4-4dcb-b4fb-f83f8c543d24"
      },
      "execution_count": 58,
      "outputs": [
        {
          "output_type": "display_data",
          "data": {
            "text/plain": [
              "<Figure size 1200x400 with 3 Axes>"
            ],
            "image/png": "[encoded data removed]"
          },
          "metadata": {}
        }
      ]
    }
  ]
}